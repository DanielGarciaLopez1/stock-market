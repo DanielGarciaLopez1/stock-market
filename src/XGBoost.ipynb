{
 "metadata": {
  "language_info": {
   "codemirror_mode": {
    "name": "ipython",
    "version": 3
   },
   "file_extension": ".py",
   "mimetype": "text/x-python",
   "name": "python",
   "nbconvert_exporter": "python",
   "pygments_lexer": "ipython3",
   "version": "3.8.5"
  },
  "orig_nbformat": 4,
  "kernelspec": {
   "name": "python3",
   "display_name": "Python 3.8.5 64-bit ('base': conda)"
  },
  "interpreter": {
   "hash": "cc5f70855ac006f3de45a3cc3b9e7d8d53845e50458809cb162b0174266dec97"
  }
 },
 "nbformat": 4,
 "nbformat_minor": 2,
 "cells": [
  {
   "cell_type": "code",
   "execution_count": 1,
   "metadata": {},
   "outputs": [],
   "source": [
    "import pandas as pd\n",
    "import numpy as np\n",
    "from sklearn.model_selection import GridSearchCV\n",
    "from sklearn.metrics import mean_absolute_error, mean_squared_error\n",
    "import yfinance as yf\n",
    "import xgboost as xgb\n",
    "import matplotlib.pyplot as plt"
   ]
  },
  {
   "cell_type": "code",
   "execution_count": 2,
   "metadata": {},
   "outputs": [],
   "source": [
    "import XGBoost \n",
    "from XGBoost import SalesPredictionModel"
   ]
  },
  {
   "cell_type": "code",
   "execution_count": 3,
   "metadata": {},
   "outputs": [
    {
     "output_type": "execute_result",
     "data": {
      "text/plain": [
       "<function yfinance.base.TickerBase.get_info(self, proxy=None, as_dict=False, *args, **kwargs)>"
      ]
     },
     "metadata": {},
     "execution_count": 3
    }
   ],
   "source": [
    "f = yf.Ticker.get_info\n",
    "f"
   ]
  },
  {
   "cell_type": "code",
   "execution_count": 4,
   "metadata": {},
   "outputs": [
    {
     "output_type": "stream",
     "name": "stdout",
     "text": [
      "yfinance.Ticker object <AAPL>\n"
     ]
    }
   ],
   "source": [
    "msft = yf.Ticker(\"aapl\")\n",
    "print(msft)"
   ]
  },
  {
   "cell_type": "code",
   "execution_count": 5,
   "metadata": {},
   "outputs": [
    {
     "output_type": "execute_result",
     "data": {
      "text/plain": [
       "{'zip': '95014',\n",
       " 'sector': 'Technology',\n",
       " 'fullTimeEmployees': 100000,\n",
       " 'longBusinessSummary': 'Apple Inc. designs, manufactures, and markets smartphones, personal computers, tablets, wearables, and accessories worldwide. It also sells various related services. The company offers iPhone, a line of smartphones; Mac, a line of personal computers; iPad, a line of multi-purpose tablets; and wearables, home, and accessories comprising AirPods, Apple TV, Apple Watch, Beats products, HomePod, iPod touch, and other Apple-branded and third-party accessories. It also provides AppleCare support services; cloud services store services; and operates various platforms, including the App Store, that allow customers to discover and download applications and digital content, such as books, music, video, games, and podcasts. In addition, the company offers various services, such as Apple Arcade, a game subscription service; Apple Music, which offers users a curated listening experience with on-demand radio stations; Apple News+, a subscription news and magazine service; Apple TV+, which offers exclusive original content; Apple Card, a co-branded credit card; and Apple Pay, a cashless payment service, as well as licenses its intellectual property. The company serves consumers, and small and mid-sized businesses; and the education, enterprise, and government markets. It sells and delivers third-party applications for its products through the App Store. The company also sells its products through its retail and online stores, and direct sales force; and third-party cellular network carriers, wholesalers, retailers, and resellers. Apple Inc. was founded in 1977 and is headquartered in Cupertino, California.',\n",
       " 'city': 'Cupertino',\n",
       " 'phone': '408-996-1010',\n",
       " 'state': 'CA',\n",
       " 'country': 'United States',\n",
       " 'companyOfficers': [],\n",
       " 'website': 'http://www.apple.com',\n",
       " 'maxAge': 1,\n",
       " 'address1': 'One Apple Park Way',\n",
       " 'industry': 'Consumer Electronics',\n",
       " 'previousClose': 131.79,\n",
       " 'regularMarketOpen': 130.71,\n",
       " 'twoHundredDayAverage': 128.31224,\n",
       " 'trailingAnnualDividendYield': 0.0062220204,\n",
       " 'payoutRatio': 0.1834,\n",
       " 'volume24Hr': None,\n",
       " 'regularMarketDayHigh': 131.51,\n",
       " 'navPrice': None,\n",
       " 'averageDailyVolume10Day': 75499262,\n",
       " 'totalAssets': None,\n",
       " 'regularMarketPreviousClose': 131.79,\n",
       " 'fiftyDayAverage': 127.27657,\n",
       " 'trailingAnnualDividendRate': 0.82,\n",
       " 'open': 130.71,\n",
       " 'toCurrency': None,\n",
       " 'averageVolume10days': 75499262,\n",
       " 'expireDate': None,\n",
       " 'yield': None,\n",
       " 'algorithm': None,\n",
       " 'dividendRate': 0.88,\n",
       " 'exDividendDate': 1620345600,\n",
       " 'beta': 1.208152,\n",
       " 'circulatingSupply': None,\n",
       " 'startDate': None,\n",
       " 'regularMarketDayLow': 130.29,\n",
       " 'priceHint': 2,\n",
       " 'currency': 'USD',\n",
       " 'trailingPE': 29.396496,\n",
       " 'regularMarketVolume': 71063662,\n",
       " 'lastMarket': None,\n",
       " 'maxSupply': None,\n",
       " 'openInterest': None,\n",
       " 'marketCap': 2182487736320,\n",
       " 'volumeAllCurrencies': None,\n",
       " 'strikePrice': None,\n",
       " 'averageVolume': 88054632,\n",
       " 'priceToSalesTrailing12Months': 6.7069683,\n",
       " 'dayLow': 130.29,\n",
       " 'ask': 130.87,\n",
       " 'ytdReturn': None,\n",
       " 'askSize': 2900,\n",
       " 'volume': 71063662,\n",
       " 'fiftyTwoWeekHigh': 145.09,\n",
       " 'forwardPE': 24.445795,\n",
       " 'fromCurrency': None,\n",
       " 'fiveYearAvgDividendYield': 1.34,\n",
       " 'fiftyTwoWeekLow': 86.2875,\n",
       " 'bid': 130.86,\n",
       " 'tradeable': False,\n",
       " 'dividendYield': 0.0068,\n",
       " 'bidSize': 1100,\n",
       " 'dayHigh': 131.51,\n",
       " 'exchange': 'NMS',\n",
       " 'shortName': 'Apple Inc.',\n",
       " 'longName': 'Apple Inc.',\n",
       " 'exchangeTimezoneName': 'America/New_York',\n",
       " 'exchangeTimezoneShortName': 'EDT',\n",
       " 'isEsgPopulated': False,\n",
       " 'gmtOffSetMilliseconds': '-14400000',\n",
       " 'quoteType': 'EQUITY',\n",
       " 'symbol': 'AAPL',\n",
       " 'messageBoardId': 'finmb_24937',\n",
       " 'market': 'us_market',\n",
       " 'annualHoldingsTurnover': None,\n",
       " 'enterpriseToRevenue': 6.874,\n",
       " 'beta3Year': None,\n",
       " 'profitMargins': 0.23451,\n",
       " 'enterpriseToEbitda': 22.408,\n",
       " '52WeekChange': 0.5073774,\n",
       " 'morningStarRiskRating': None,\n",
       " 'forwardEps': 5.35,\n",
       " 'revenueQuarterlyGrowth': None,\n",
       " 'sharesOutstanding': 16687599616,\n",
       " 'fundInceptionDate': None,\n",
       " 'annualReportExpenseRatio': None,\n",
       " 'bookValue': 4.146,\n",
       " 'sharesShort': 123121920,\n",
       " 'sharesPercentSharesOut': 0.0074,\n",
       " 'fundFamily': None,\n",
       " 'lastFiscalYearEnd': 1601078400,\n",
       " 'heldPercentInstitutions': 0.58687997,\n",
       " 'netIncomeToCommon': 76311003136,\n",
       " 'trailingEps': 4.449,\n",
       " 'lastDividendValue': 0.22,\n",
       " 'SandP52WeekChange': 0.36288393,\n",
       " 'priceToBook': 31.544865,\n",
       " 'heldPercentInsiders': 0.00066,\n",
       " 'nextFiscalYearEnd': 1664150400,\n",
       " 'mostRecentQuarter': 1616803200,\n",
       " 'shortRatio': 1.36,\n",
       " 'sharesShortPreviousMonthDate': 1619740800,\n",
       " 'floatShares': 16670609616,\n",
       " 'enterpriseValue': 2236806070272,\n",
       " 'threeYearAverageReturn': None,\n",
       " 'lastSplitDate': 1598832000,\n",
       " 'lastSplitFactor': '4:1',\n",
       " 'legalType': None,\n",
       " 'lastDividendDate': 1620345600,\n",
       " 'morningStarOverallRating': None,\n",
       " 'earningsQuarterlyGrowth': 1.101,\n",
       " 'dateShortInterest': 1622160000,\n",
       " 'pegRatio': 1.45,\n",
       " 'lastCapGain': None,\n",
       " 'shortPercentOfFloat': 0.0074,\n",
       " 'sharesShortPriorMonth': 82710348,\n",
       " 'impliedSharesOutstanding': None,\n",
       " 'category': None,\n",
       " 'fiveYearAverageReturn': None,\n",
       " 'regularMarketPrice': 130.785,\n",
       " 'logo_url': 'https://logo.clearbit.com/apple.com'}"
      ]
     },
     "metadata": {},
     "execution_count": 5
    }
   ],
   "source": [
    "msft.info"
   ]
  },
  {
   "cell_type": "code",
   "execution_count": 118,
   "metadata": {},
   "outputs": [],
   "source": [
    "data = msft.history(period=\"max\")"
   ]
  },
  {
   "cell_type": "code",
   "execution_count": 119,
   "metadata": {},
   "outputs": [
    {
     "output_type": "execute_result",
     "data": {
      "text/plain": [
       "Index(['Open', 'High', 'Low', 'Close', 'Volume', 'Dividends', 'Stock Splits'], dtype='object')"
      ]
     },
     "metadata": {},
     "execution_count": 119
    }
   ],
   "source": [
    "data.columns"
   ]
  },
  {
   "cell_type": "code",
   "execution_count": 120,
   "metadata": {},
   "outputs": [],
   "source": [
    "data = data.drop(columns=[\"Volume\",\"Stock Splits\",\"Dividends\"])"
   ]
  },
  {
   "cell_type": "code",
   "execution_count": 121,
   "metadata": {},
   "outputs": [],
   "source": [
    "data[\"mean_open_close\"]=(data.loc[:,\"Open\"]+data.loc[:,\"Close\"])/2\n"
   ]
  },
  {
   "cell_type": "code",
   "execution_count": 122,
   "metadata": {},
   "outputs": [
    {
     "output_type": "execute_result",
     "data": {
      "text/plain": [
       "                Open      High       Low     Close  mean_open_close\n",
       "Date                                                               \n",
       "1980-12-12  0.100751  0.101189  0.100751  0.100751         0.100751\n",
       "1980-12-15  0.095933  0.095933  0.095495  0.095495         0.095714\n",
       "1980-12-16  0.088923  0.088923  0.088485  0.088485         0.088704\n",
       "1980-12-17  0.090676  0.091114  0.090676  0.090676         0.090676\n",
       "1980-12-18  0.093304  0.093742  0.093304  0.093304         0.093304"
      ],
      "text/html": "<div>\n<style scoped>\n    .dataframe tbody tr th:only-of-type {\n        vertical-align: middle;\n    }\n\n    .dataframe tbody tr th {\n        vertical-align: top;\n    }\n\n    .dataframe thead th {\n        text-align: right;\n    }\n</style>\n<table border=\"1\" class=\"dataframe\">\n  <thead>\n    <tr style=\"text-align: right;\">\n      <th></th>\n      <th>Open</th>\n      <th>High</th>\n      <th>Low</th>\n      <th>Close</th>\n      <th>mean_open_close</th>\n    </tr>\n    <tr>\n      <th>Date</th>\n      <th></th>\n      <th></th>\n      <th></th>\n      <th></th>\n      <th></th>\n    </tr>\n  </thead>\n  <tbody>\n    <tr>\n      <th>1980-12-12</th>\n      <td>0.100751</td>\n      <td>0.101189</td>\n      <td>0.100751</td>\n      <td>0.100751</td>\n      <td>0.100751</td>\n    </tr>\n    <tr>\n      <th>1980-12-15</th>\n      <td>0.095933</td>\n      <td>0.095933</td>\n      <td>0.095495</td>\n      <td>0.095495</td>\n      <td>0.095714</td>\n    </tr>\n    <tr>\n      <th>1980-12-16</th>\n      <td>0.088923</td>\n      <td>0.088923</td>\n      <td>0.088485</td>\n      <td>0.088485</td>\n      <td>0.088704</td>\n    </tr>\n    <tr>\n      <th>1980-12-17</th>\n      <td>0.090676</td>\n      <td>0.091114</td>\n      <td>0.090676</td>\n      <td>0.090676</td>\n      <td>0.090676</td>\n    </tr>\n    <tr>\n      <th>1980-12-18</th>\n      <td>0.093304</td>\n      <td>0.093742</td>\n      <td>0.093304</td>\n      <td>0.093304</td>\n      <td>0.093304</td>\n    </tr>\n  </tbody>\n</table>\n</div>"
     },
     "metadata": {},
     "execution_count": 122
    }
   ],
   "source": [
    "data.head()"
   ]
  },
  {
   "cell_type": "code",
   "execution_count": 123,
   "metadata": {},
   "outputs": [],
   "source": [
    "data = data.drop(columns=[\"Open\",\"High\",\"Low\",\"Close\"])"
   ]
  },
  {
   "cell_type": "code",
   "execution_count": 124,
   "metadata": {},
   "outputs": [],
   "source": [
    "def train_test_split(data, n_test):\n",
    "    \"\"\"\n",
    "    Function to split dataset into train and test\n",
    "        - data\n",
    "        - n_test: desired number of rows in test dataset\n",
    "    \"\"\"\n",
    "    return data[:-n_test].reset_index(drop=True), data[-n_test:].reset_index(drop=True)"
   ]
  },
  {
   "cell_type": "code",
   "execution_count": 125,
   "metadata": {},
   "outputs": [],
   "source": [
    "def series_to_supervised(data,n_inputs=10,n_outputs=1):\n",
    "    \"\"\"\n",
    "    Function to transform time-series data to supervised training data\n",
    "        - data\n",
    "        - n_inputs: Number of days to look back\n",
    "        - n_outputs: Number of days to look after\n",
    "        - dropnan\n",
    "    \"\"\"\n",
    "    n_vars = 1 if type(data) is list else data.shape[1]\n",
    "    new_data = pd.DataFrame(data)\n",
    "    columns, names = list(), list()\n",
    "    # With this loop we extract the input values, i.e. the values of the variables\n",
    "    # for the previous n_inputs time steps\n",
    "    for i in range(n_inputs, 0, -1):\n",
    "        columns.append(new_data.shift(i))\n",
    "        names += [('%s(t-%d)' % (data.columns[j], i)) for j in range(n_vars)]\n",
    "    # With this loop we extract the actual values of the variables for the actual\n",
    "    # time step and, if desired, we will add the next n_outputs time steps as columns\n",
    "    for i in range(0, n_outputs):\n",
    "        columns.append(new_data.shift(-i))  \n",
    "        if i == 0:\n",
    "            names += [('%s(t)' % (data.columns[j])) for j in range(n_vars)]\n",
    "        else:\n",
    "            names += [('%s(t+%d)' % (data.columns[j], i)) for j in range(n_vars)]\n",
    "    data_result = pd.concat(columns, axis=1)\n",
    "    data_result.columns = names\n",
    "    data_result.dropna(inplace=True)\n",
    "    data_result = data_result.infer_objects()\n",
    "    return data_result"
   ]
  },
  {
   "cell_type": "code",
   "execution_count": 85,
   "metadata": {},
   "outputs": [],
   "source": []
  },
  {
   "cell_type": "code",
   "execution_count": 128,
   "metadata": {},
   "outputs": [],
   "source": [
    "data_final=series_to_supervised(data)\n",
    "train,test=train_test_split(data_final,25)"
   ]
  },
  {
   "cell_type": "code",
   "execution_count": 129,
   "metadata": {},
   "outputs": [
    {
     "output_type": "execute_result",
     "data": {
      "text/plain": [
       "       mean_open_close(t-10)  mean_open_close(t-9)  mean_open_close(t-8)  \\\n",
       "0                   0.100751              0.095714              0.088704   \n",
       "1                   0.095714              0.088704              0.090676   \n",
       "2                   0.088704              0.090676              0.093304   \n",
       "3                   0.090676              0.093304              0.098999   \n",
       "4                   0.093304              0.098999              0.103817   \n",
       "...                      ...                   ...                   ...   \n",
       "10176             133.014069            134.546469            134.471581   \n",
       "10177             134.546469            134.471581            133.717864   \n",
       "10178             134.471581            133.717864            134.746130   \n",
       "10179             133.717864            134.746130            131.396816   \n",
       "10180             134.746130            131.396816            132.065671   \n",
       "\n",
       "       mean_open_close(t-7)  mean_open_close(t-6)  mean_open_close(t-5)  \\\n",
       "0                  0.090676              0.093304              0.098999   \n",
       "1                  0.093304              0.098999              0.103817   \n",
       "2                  0.098999              0.103817              0.108198   \n",
       "3                  0.103817              0.108198              0.113892   \n",
       "4                  0.108198              0.113892              0.124405   \n",
       "...                     ...                   ...                   ...   \n",
       "10176            133.717864            134.746130            131.396816   \n",
       "10177            134.746130            131.396816            132.065671   \n",
       "10178            131.396816            132.065671            129.300372   \n",
       "10179            132.065671            129.300372            128.431852   \n",
       "10180            129.300372            128.431852            128.596570   \n",
       "\n",
       "       mean_open_close(t-4)  mean_open_close(t-3)  mean_open_close(t-2)  \\\n",
       "0                  0.103817              0.108198              0.113892   \n",
       "1                  0.108198              0.113892              0.124405   \n",
       "2                  0.113892              0.124405              0.126158   \n",
       "3                  0.124405              0.126158              0.123310   \n",
       "4                  0.126158              0.123310              0.119806   \n",
       "...                     ...                   ...                   ...   \n",
       "10176            132.065671            129.300372            128.431852   \n",
       "10177            129.300372            128.431852            128.596570   \n",
       "10178            128.431852            128.596570            130.530006   \n",
       "10179            128.596570            130.530006            128.130001   \n",
       "10180            130.530006            128.130001            124.705002   \n",
       "\n",
       "       mean_open_close(t-1)  mean_open_close(t)  \n",
       "0                  0.124405            0.126158  \n",
       "1                  0.126158            0.123310  \n",
       "2                  0.123310            0.119806  \n",
       "3                  0.119806            0.120901  \n",
       "4                  0.120901            0.118492  \n",
       "...                     ...                 ...  \n",
       "10176            128.596570          130.530006  \n",
       "10177            130.530006          128.130001  \n",
       "10178            128.130001          124.705002  \n",
       "10179            124.705002          123.084999  \n",
       "10180            123.084999          124.775002  \n",
       "\n",
       "[10181 rows x 11 columns]"
      ],
      "text/html": "<div>\n<style scoped>\n    .dataframe tbody tr th:only-of-type {\n        vertical-align: middle;\n    }\n\n    .dataframe tbody tr th {\n        vertical-align: top;\n    }\n\n    .dataframe thead th {\n        text-align: right;\n    }\n</style>\n<table border=\"1\" class=\"dataframe\">\n  <thead>\n    <tr style=\"text-align: right;\">\n      <th></th>\n      <th>mean_open_close(t-10)</th>\n      <th>mean_open_close(t-9)</th>\n      <th>mean_open_close(t-8)</th>\n      <th>mean_open_close(t-7)</th>\n      <th>mean_open_close(t-6)</th>\n      <th>mean_open_close(t-5)</th>\n      <th>mean_open_close(t-4)</th>\n      <th>mean_open_close(t-3)</th>\n      <th>mean_open_close(t-2)</th>\n      <th>mean_open_close(t-1)</th>\n      <th>mean_open_close(t)</th>\n    </tr>\n  </thead>\n  <tbody>\n    <tr>\n      <th>0</th>\n      <td>0.100751</td>\n      <td>0.095714</td>\n      <td>0.088704</td>\n      <td>0.090676</td>\n      <td>0.093304</td>\n      <td>0.098999</td>\n      <td>0.103817</td>\n      <td>0.108198</td>\n      <td>0.113892</td>\n      <td>0.124405</td>\n      <td>0.126158</td>\n    </tr>\n    <tr>\n      <th>1</th>\n      <td>0.095714</td>\n      <td>0.088704</td>\n      <td>0.090676</td>\n      <td>0.093304</td>\n      <td>0.098999</td>\n      <td>0.103817</td>\n      <td>0.108198</td>\n      <td>0.113892</td>\n      <td>0.124405</td>\n      <td>0.126158</td>\n      <td>0.123310</td>\n    </tr>\n    <tr>\n      <th>2</th>\n      <td>0.088704</td>\n      <td>0.090676</td>\n      <td>0.093304</td>\n      <td>0.098999</td>\n      <td>0.103817</td>\n      <td>0.108198</td>\n      <td>0.113892</td>\n      <td>0.124405</td>\n      <td>0.126158</td>\n      <td>0.123310</td>\n      <td>0.119806</td>\n    </tr>\n    <tr>\n      <th>3</th>\n      <td>0.090676</td>\n      <td>0.093304</td>\n      <td>0.098999</td>\n      <td>0.103817</td>\n      <td>0.108198</td>\n      <td>0.113892</td>\n      <td>0.124405</td>\n      <td>0.126158</td>\n      <td>0.123310</td>\n      <td>0.119806</td>\n      <td>0.120901</td>\n    </tr>\n    <tr>\n      <th>4</th>\n      <td>0.093304</td>\n      <td>0.098999</td>\n      <td>0.103817</td>\n      <td>0.108198</td>\n      <td>0.113892</td>\n      <td>0.124405</td>\n      <td>0.126158</td>\n      <td>0.123310</td>\n      <td>0.119806</td>\n      <td>0.120901</td>\n      <td>0.118492</td>\n    </tr>\n    <tr>\n      <th>...</th>\n      <td>...</td>\n      <td>...</td>\n      <td>...</td>\n      <td>...</td>\n      <td>...</td>\n      <td>...</td>\n      <td>...</td>\n      <td>...</td>\n      <td>...</td>\n      <td>...</td>\n      <td>...</td>\n    </tr>\n    <tr>\n      <th>10176</th>\n      <td>133.014069</td>\n      <td>134.546469</td>\n      <td>134.471581</td>\n      <td>133.717864</td>\n      <td>134.746130</td>\n      <td>131.396816</td>\n      <td>132.065671</td>\n      <td>129.300372</td>\n      <td>128.431852</td>\n      <td>128.596570</td>\n      <td>130.530006</td>\n    </tr>\n    <tr>\n      <th>10177</th>\n      <td>134.546469</td>\n      <td>134.471581</td>\n      <td>133.717864</td>\n      <td>134.746130</td>\n      <td>131.396816</td>\n      <td>132.065671</td>\n      <td>129.300372</td>\n      <td>128.431852</td>\n      <td>128.596570</td>\n      <td>130.530006</td>\n      <td>128.130001</td>\n    </tr>\n    <tr>\n      <th>10178</th>\n      <td>134.471581</td>\n      <td>133.717864</td>\n      <td>134.746130</td>\n      <td>131.396816</td>\n      <td>132.065671</td>\n      <td>129.300372</td>\n      <td>128.431852</td>\n      <td>128.596570</td>\n      <td>130.530006</td>\n      <td>128.130001</td>\n      <td>124.705002</td>\n    </tr>\n    <tr>\n      <th>10179</th>\n      <td>133.717864</td>\n      <td>134.746130</td>\n      <td>131.396816</td>\n      <td>132.065671</td>\n      <td>129.300372</td>\n      <td>128.431852</td>\n      <td>128.596570</td>\n      <td>130.530006</td>\n      <td>128.130001</td>\n      <td>124.705002</td>\n      <td>123.084999</td>\n    </tr>\n    <tr>\n      <th>10180</th>\n      <td>134.746130</td>\n      <td>131.396816</td>\n      <td>132.065671</td>\n      <td>129.300372</td>\n      <td>128.431852</td>\n      <td>128.596570</td>\n      <td>130.530006</td>\n      <td>128.130001</td>\n      <td>124.705002</td>\n      <td>123.084999</td>\n      <td>124.775002</td>\n    </tr>\n  </tbody>\n</table>\n<p>10181 rows × 11 columns</p>\n</div>"
     },
     "metadata": {},
     "execution_count": 129
    }
   ],
   "source": [
    "train"
   ]
  },
  {
   "cell_type": "code",
   "execution_count": 133,
   "metadata": {},
   "outputs": [],
   "source": [
    "train_X, train_y = train.drop('mean_open_close(t)', axis=1), train.drop(test.columns.difference(['mean_open_close(t)']), axis=1)\n",
    "test_X, test_y = test.drop('mean_open_close(t)', axis=1), test.drop(test.columns.difference(['mean_open_close(t)']), axis=1)"
   ]
  },
  {
   "cell_type": "code",
   "execution_count": 167,
   "metadata": {},
   "outputs": [],
   "source": [
    "model_xgb = xgb.XGBRegressor(objective='reg:squarederror', n_estimators=500,max_depth=10,reg_alpha=0.01)\n"
   ]
  },
  {
   "cell_type": "code",
   "execution_count": 168,
   "metadata": {},
   "outputs": [
    {
     "output_type": "execute_result",
     "data": {
      "text/plain": [
       "XGBRegressor(base_score=0.5, booster='gbtree', colsample_bylevel=1,\n",
       "             colsample_bynode=1, colsample_bytree=1, gamma=0, gpu_id=-1,\n",
       "             importance_type='gain', interaction_constraints='',\n",
       "             learning_rate=0.300000012, max_delta_step=0, max_depth=10,\n",
       "             min_child_weight=1, missing=nan, monotone_constraints='()',\n",
       "             n_estimators=500, n_jobs=8, num_parallel_tree=1, random_state=0,\n",
       "             reg_alpha=0.01, reg_lambda=1, scale_pos_weight=1, subsample=1,\n",
       "             tree_method='exact', validate_parameters=1, verbosity=None)"
      ]
     },
     "metadata": {},
     "execution_count": 168
    }
   ],
   "source": [
    "model_xgb.fit(train_X, train_y)"
   ]
  },
  {
   "cell_type": "code",
   "execution_count": 169,
   "metadata": {},
   "outputs": [
    {
     "output_type": "execute_result",
     "data": {
      "text/plain": [
       "    mean_open_close(t-10)  mean_open_close(t-9)  mean_open_close(t-8)  \\\n",
       "0              131.396816            132.065671            129.300372   \n",
       "1              132.065671            129.300372            128.431852   \n",
       "2              129.300372            128.431852            128.596570   \n",
       "3              128.431852            128.596570            130.530006   \n",
       "4              128.596570            130.530006            128.130001   \n",
       "5              130.530006            128.130001            124.705002   \n",
       "6              128.130001            124.705002            123.084999   \n",
       "7              124.705002            123.084999            124.775002   \n",
       "8              123.084999            124.775002            126.849998   \n",
       "9              124.775002            126.849998            126.544998   \n",
       "10             126.849998            126.544998            125.704998   \n",
       "11             126.544998            125.704998            123.925003   \n",
       "12             125.704998            123.925003            126.270000   \n",
       "13             123.925003            126.270000            126.625000   \n",
       "14             126.270000            126.625000            126.555000   \n",
       "15             126.625000            126.555000            127.360001   \n",
       "16             126.555000            127.360001            126.904999   \n",
       "17             127.360001            126.904999            125.860001   \n",
       "18             126.904999            125.860001            125.090000   \n",
       "19             125.860001            125.090000            124.680000   \n",
       "20             125.090000            124.680000            124.669998   \n",
       "21             124.680000            124.669998            124.110001   \n",
       "22             124.669998            124.110001            124.980000   \n",
       "23             124.110001            124.980000            126.035000   \n",
       "24             124.980000            126.035000            126.669998   \n",
       "\n",
       "    mean_open_close(t-7)  mean_open_close(t-6)  mean_open_close(t-5)  \\\n",
       "0             128.431852            128.596570            130.530006   \n",
       "1             128.596570            130.530006            128.130001   \n",
       "2             130.530006            128.130001            124.705002   \n",
       "3             128.130001            124.705002            123.084999   \n",
       "4             124.705002            123.084999            124.775002   \n",
       "5             123.084999            124.775002            126.849998   \n",
       "6             124.775002            126.849998            126.544998   \n",
       "7             126.849998            126.544998            125.704998   \n",
       "8             126.544998            125.704998            123.925003   \n",
       "9             125.704998            123.925003            126.270000   \n",
       "10            123.925003            126.270000            126.625000   \n",
       "11            126.270000            126.625000            126.555000   \n",
       "12            126.625000            126.555000            127.360001   \n",
       "13            126.555000            127.360001            126.904999   \n",
       "14            127.360001            126.904999            125.860001   \n",
       "15            126.904999            125.860001            125.090000   \n",
       "16            125.860001            125.090000            124.680000   \n",
       "17            125.090000            124.680000            124.669998   \n",
       "18            124.680000            124.669998            124.110001   \n",
       "19            124.669998            124.110001            124.980000   \n",
       "20            124.110001            124.980000            126.035000   \n",
       "21            124.980000            126.035000            126.669998   \n",
       "22            126.035000            126.669998            127.169998   \n",
       "23            126.669998            127.169998            126.564999   \n",
       "24            127.169998            126.564999            126.939999   \n",
       "\n",
       "    mean_open_close(t-4)  mean_open_close(t-3)  mean_open_close(t-2)  \\\n",
       "0             128.130001            124.705002            123.084999   \n",
       "1             124.705002            123.084999            124.775002   \n",
       "2             123.084999            124.775002            126.849998   \n",
       "3             124.775002            126.849998            126.544998   \n",
       "4             126.849998            126.544998            125.704998   \n",
       "5             126.544998            125.704998            123.925003   \n",
       "6             125.704998            123.925003            126.270000   \n",
       "7             123.925003            126.270000            126.625000   \n",
       "8             126.270000            126.625000            126.555000   \n",
       "9             126.625000            126.555000            127.360001   \n",
       "10            126.555000            127.360001            126.904999   \n",
       "11            127.360001            126.904999            125.860001   \n",
       "12            126.904999            125.860001            125.090000   \n",
       "13            125.860001            125.090000            124.680000   \n",
       "14            125.090000            124.680000            124.669998   \n",
       "15            124.680000            124.669998            124.110001   \n",
       "16            124.669998            124.110001            124.980000   \n",
       "17            124.110001            124.980000            126.035000   \n",
       "18            124.980000            126.035000            126.669998   \n",
       "19            126.035000            126.669998            127.169998   \n",
       "20            126.669998            127.169998            126.564999   \n",
       "21            127.169998            126.564999            126.939999   \n",
       "22            126.564999            126.939999            129.149998   \n",
       "23            126.939999            129.149998            129.790001   \n",
       "24            129.149998            129.790001            130.259995   \n",
       "\n",
       "    mean_open_close(t-1)  \n",
       "0             124.775002  \n",
       "1             126.849998  \n",
       "2             126.544998  \n",
       "3             125.704998  \n",
       "4             123.925003  \n",
       "5             126.270000  \n",
       "6             126.625000  \n",
       "7             126.555000  \n",
       "8             127.360001  \n",
       "9             126.904999  \n",
       "10            125.860001  \n",
       "11            125.090000  \n",
       "12            124.680000  \n",
       "13            124.669998  \n",
       "14            124.110001  \n",
       "15            124.980000  \n",
       "16            126.035000  \n",
       "17            126.669998  \n",
       "18            127.169998  \n",
       "19            126.564999  \n",
       "20            126.939999  \n",
       "21            129.149998  \n",
       "22            129.790001  \n",
       "23            130.259995  \n",
       "24            130.794998  "
      ],
      "text/html": "<div>\n<style scoped>\n    .dataframe tbody tr th:only-of-type {\n        vertical-align: middle;\n    }\n\n    .dataframe tbody tr th {\n        vertical-align: top;\n    }\n\n    .dataframe thead th {\n        text-align: right;\n    }\n</style>\n<table border=\"1\" class=\"dataframe\">\n  <thead>\n    <tr style=\"text-align: right;\">\n      <th></th>\n      <th>mean_open_close(t-10)</th>\n      <th>mean_open_close(t-9)</th>\n      <th>mean_open_close(t-8)</th>\n      <th>mean_open_close(t-7)</th>\n      <th>mean_open_close(t-6)</th>\n      <th>mean_open_close(t-5)</th>\n      <th>mean_open_close(t-4)</th>\n      <th>mean_open_close(t-3)</th>\n      <th>mean_open_close(t-2)</th>\n      <th>mean_open_close(t-1)</th>\n    </tr>\n  </thead>\n  <tbody>\n    <tr>\n      <th>0</th>\n      <td>131.396816</td>\n      <td>132.065671</td>\n      <td>129.300372</td>\n      <td>128.431852</td>\n      <td>128.596570</td>\n      <td>130.530006</td>\n      <td>128.130001</td>\n      <td>124.705002</td>\n      <td>123.084999</td>\n      <td>124.775002</td>\n    </tr>\n    <tr>\n      <th>1</th>\n      <td>132.065671</td>\n      <td>129.300372</td>\n      <td>128.431852</td>\n      <td>128.596570</td>\n      <td>130.530006</td>\n      <td>128.130001</td>\n      <td>124.705002</td>\n      <td>123.084999</td>\n      <td>124.775002</td>\n      <td>126.849998</td>\n    </tr>\n    <tr>\n      <th>2</th>\n      <td>129.300372</td>\n      <td>128.431852</td>\n      <td>128.596570</td>\n      <td>130.530006</td>\n      <td>128.130001</td>\n      <td>124.705002</td>\n      <td>123.084999</td>\n      <td>124.775002</td>\n      <td>126.849998</td>\n      <td>126.544998</td>\n    </tr>\n    <tr>\n      <th>3</th>\n      <td>128.431852</td>\n      <td>128.596570</td>\n      <td>130.530006</td>\n      <td>128.130001</td>\n      <td>124.705002</td>\n      <td>123.084999</td>\n      <td>124.775002</td>\n      <td>126.849998</td>\n      <td>126.544998</td>\n      <td>125.704998</td>\n    </tr>\n    <tr>\n      <th>4</th>\n      <td>128.596570</td>\n      <td>130.530006</td>\n      <td>128.130001</td>\n      <td>124.705002</td>\n      <td>123.084999</td>\n      <td>124.775002</td>\n      <td>126.849998</td>\n      <td>126.544998</td>\n      <td>125.704998</td>\n      <td>123.925003</td>\n    </tr>\n    <tr>\n      <th>5</th>\n      <td>130.530006</td>\n      <td>128.130001</td>\n      <td>124.705002</td>\n      <td>123.084999</td>\n      <td>124.775002</td>\n      <td>126.849998</td>\n      <td>126.544998</td>\n      <td>125.704998</td>\n      <td>123.925003</td>\n      <td>126.270000</td>\n    </tr>\n    <tr>\n      <th>6</th>\n      <td>128.130001</td>\n      <td>124.705002</td>\n      <td>123.084999</td>\n      <td>124.775002</td>\n      <td>126.849998</td>\n      <td>126.544998</td>\n      <td>125.704998</td>\n      <td>123.925003</td>\n      <td>126.270000</td>\n      <td>126.625000</td>\n    </tr>\n    <tr>\n      <th>7</th>\n      <td>124.705002</td>\n      <td>123.084999</td>\n      <td>124.775002</td>\n      <td>126.849998</td>\n      <td>126.544998</td>\n      <td>125.704998</td>\n      <td>123.925003</td>\n      <td>126.270000</td>\n      <td>126.625000</td>\n      <td>126.555000</td>\n    </tr>\n    <tr>\n      <th>8</th>\n      <td>123.084999</td>\n      <td>124.775002</td>\n      <td>126.849998</td>\n      <td>126.544998</td>\n      <td>125.704998</td>\n      <td>123.925003</td>\n      <td>126.270000</td>\n      <td>126.625000</td>\n      <td>126.555000</td>\n      <td>127.360001</td>\n    </tr>\n    <tr>\n      <th>9</th>\n      <td>124.775002</td>\n      <td>126.849998</td>\n      <td>126.544998</td>\n      <td>125.704998</td>\n      <td>123.925003</td>\n      <td>126.270000</td>\n      <td>126.625000</td>\n      <td>126.555000</td>\n      <td>127.360001</td>\n      <td>126.904999</td>\n    </tr>\n    <tr>\n      <th>10</th>\n      <td>126.849998</td>\n      <td>126.544998</td>\n      <td>125.704998</td>\n      <td>123.925003</td>\n      <td>126.270000</td>\n      <td>126.625000</td>\n      <td>126.555000</td>\n      <td>127.360001</td>\n      <td>126.904999</td>\n      <td>125.860001</td>\n    </tr>\n    <tr>\n      <th>11</th>\n      <td>126.544998</td>\n      <td>125.704998</td>\n      <td>123.925003</td>\n      <td>126.270000</td>\n      <td>126.625000</td>\n      <td>126.555000</td>\n      <td>127.360001</td>\n      <td>126.904999</td>\n      <td>125.860001</td>\n      <td>125.090000</td>\n    </tr>\n    <tr>\n      <th>12</th>\n      <td>125.704998</td>\n      <td>123.925003</td>\n      <td>126.270000</td>\n      <td>126.625000</td>\n      <td>126.555000</td>\n      <td>127.360001</td>\n      <td>126.904999</td>\n      <td>125.860001</td>\n      <td>125.090000</td>\n      <td>124.680000</td>\n    </tr>\n    <tr>\n      <th>13</th>\n      <td>123.925003</td>\n      <td>126.270000</td>\n      <td>126.625000</td>\n      <td>126.555000</td>\n      <td>127.360001</td>\n      <td>126.904999</td>\n      <td>125.860001</td>\n      <td>125.090000</td>\n      <td>124.680000</td>\n      <td>124.669998</td>\n    </tr>\n    <tr>\n      <th>14</th>\n      <td>126.270000</td>\n      <td>126.625000</td>\n      <td>126.555000</td>\n      <td>127.360001</td>\n      <td>126.904999</td>\n      <td>125.860001</td>\n      <td>125.090000</td>\n      <td>124.680000</td>\n      <td>124.669998</td>\n      <td>124.110001</td>\n    </tr>\n    <tr>\n      <th>15</th>\n      <td>126.625000</td>\n      <td>126.555000</td>\n      <td>127.360001</td>\n      <td>126.904999</td>\n      <td>125.860001</td>\n      <td>125.090000</td>\n      <td>124.680000</td>\n      <td>124.669998</td>\n      <td>124.110001</td>\n      <td>124.980000</td>\n    </tr>\n    <tr>\n      <th>16</th>\n      <td>126.555000</td>\n      <td>127.360001</td>\n      <td>126.904999</td>\n      <td>125.860001</td>\n      <td>125.090000</td>\n      <td>124.680000</td>\n      <td>124.669998</td>\n      <td>124.110001</td>\n      <td>124.980000</td>\n      <td>126.035000</td>\n    </tr>\n    <tr>\n      <th>17</th>\n      <td>127.360001</td>\n      <td>126.904999</td>\n      <td>125.860001</td>\n      <td>125.090000</td>\n      <td>124.680000</td>\n      <td>124.669998</td>\n      <td>124.110001</td>\n      <td>124.980000</td>\n      <td>126.035000</td>\n      <td>126.669998</td>\n    </tr>\n    <tr>\n      <th>18</th>\n      <td>126.904999</td>\n      <td>125.860001</td>\n      <td>125.090000</td>\n      <td>124.680000</td>\n      <td>124.669998</td>\n      <td>124.110001</td>\n      <td>124.980000</td>\n      <td>126.035000</td>\n      <td>126.669998</td>\n      <td>127.169998</td>\n    </tr>\n    <tr>\n      <th>19</th>\n      <td>125.860001</td>\n      <td>125.090000</td>\n      <td>124.680000</td>\n      <td>124.669998</td>\n      <td>124.110001</td>\n      <td>124.980000</td>\n      <td>126.035000</td>\n      <td>126.669998</td>\n      <td>127.169998</td>\n      <td>126.564999</td>\n    </tr>\n    <tr>\n      <th>20</th>\n      <td>125.090000</td>\n      <td>124.680000</td>\n      <td>124.669998</td>\n      <td>124.110001</td>\n      <td>124.980000</td>\n      <td>126.035000</td>\n      <td>126.669998</td>\n      <td>127.169998</td>\n      <td>126.564999</td>\n      <td>126.939999</td>\n    </tr>\n    <tr>\n      <th>21</th>\n      <td>124.680000</td>\n      <td>124.669998</td>\n      <td>124.110001</td>\n      <td>124.980000</td>\n      <td>126.035000</td>\n      <td>126.669998</td>\n      <td>127.169998</td>\n      <td>126.564999</td>\n      <td>126.939999</td>\n      <td>129.149998</td>\n    </tr>\n    <tr>\n      <th>22</th>\n      <td>124.669998</td>\n      <td>124.110001</td>\n      <td>124.980000</td>\n      <td>126.035000</td>\n      <td>126.669998</td>\n      <td>127.169998</td>\n      <td>126.564999</td>\n      <td>126.939999</td>\n      <td>129.149998</td>\n      <td>129.790001</td>\n    </tr>\n    <tr>\n      <th>23</th>\n      <td>124.110001</td>\n      <td>124.980000</td>\n      <td>126.035000</td>\n      <td>126.669998</td>\n      <td>127.169998</td>\n      <td>126.564999</td>\n      <td>126.939999</td>\n      <td>129.149998</td>\n      <td>129.790001</td>\n      <td>130.259995</td>\n    </tr>\n    <tr>\n      <th>24</th>\n      <td>124.980000</td>\n      <td>126.035000</td>\n      <td>126.669998</td>\n      <td>127.169998</td>\n      <td>126.564999</td>\n      <td>126.939999</td>\n      <td>129.149998</td>\n      <td>129.790001</td>\n      <td>130.259995</td>\n      <td>130.794998</td>\n    </tr>\n  </tbody>\n</table>\n</div>"
     },
     "metadata": {},
     "execution_count": 169
    }
   ],
   "source": [
    "test_X"
   ]
  },
  {
   "cell_type": "code",
   "execution_count": 170,
   "metadata": {},
   "outputs": [],
   "source": [
    "a = model_xgb.predict(test_X)"
   ]
  },
  {
   "cell_type": "code",
   "execution_count": 171,
   "metadata": {},
   "outputs": [
    {
     "output_type": "execute_result",
     "data": {
      "text/plain": [
       "array([127.29202 , 128.38023 , 128.21042 , 126.8551  , 121.82026 ,\n",
       "       125.77928 , 128.86656 , 128.94232 , 129.51462 , 126.6254  ,\n",
       "       126.35016 , 127.038216, 126.18583 , 128.4013  , 124.56933 ,\n",
       "       126.090706, 126.84742 , 126.8274  , 129.47717 , 127.29222 ,\n",
       "       125.75045 , 129.77379 , 129.8138  , 130.18166 , 130.59065 ],\n",
       "      dtype=float32)"
      ]
     },
     "metadata": {},
     "execution_count": 171
    }
   ],
   "source": [
    "a"
   ]
  },
  {
   "cell_type": "code",
   "execution_count": 172,
   "metadata": {},
   "outputs": [
    {
     "output_type": "execute_result",
     "data": {
      "text/plain": [
       "    mean_open_close(t)\n",
       "0           126.849998\n",
       "1           126.544998\n",
       "2           125.704998\n",
       "3           123.925003\n",
       "4           126.270000\n",
       "5           126.625000\n",
       "6           126.555000\n",
       "7           127.360001\n",
       "8           126.904999\n",
       "9           125.860001\n",
       "10          125.090000\n",
       "11          124.680000\n",
       "12          124.669998\n",
       "13          124.110001\n",
       "14          124.980000\n",
       "15          126.035000\n",
       "16          126.669998\n",
       "17          127.169998\n",
       "18          126.564999\n",
       "19          126.939999\n",
       "20          129.149998\n",
       "21          129.790001\n",
       "22          130.259995\n",
       "23          130.794998\n",
       "24          130.707504"
      ],
      "text/html": "<div>\n<style scoped>\n    .dataframe tbody tr th:only-of-type {\n        vertical-align: middle;\n    }\n\n    .dataframe tbody tr th {\n        vertical-align: top;\n    }\n\n    .dataframe thead th {\n        text-align: right;\n    }\n</style>\n<table border=\"1\" class=\"dataframe\">\n  <thead>\n    <tr style=\"text-align: right;\">\n      <th></th>\n      <th>mean_open_close(t)</th>\n    </tr>\n  </thead>\n  <tbody>\n    <tr>\n      <th>0</th>\n      <td>126.849998</td>\n    </tr>\n    <tr>\n      <th>1</th>\n      <td>126.544998</td>\n    </tr>\n    <tr>\n      <th>2</th>\n      <td>125.704998</td>\n    </tr>\n    <tr>\n      <th>3</th>\n      <td>123.925003</td>\n    </tr>\n    <tr>\n      <th>4</th>\n      <td>126.270000</td>\n    </tr>\n    <tr>\n      <th>5</th>\n      <td>126.625000</td>\n    </tr>\n    <tr>\n      <th>6</th>\n      <td>126.555000</td>\n    </tr>\n    <tr>\n      <th>7</th>\n      <td>127.360001</td>\n    </tr>\n    <tr>\n      <th>8</th>\n      <td>126.904999</td>\n    </tr>\n    <tr>\n      <th>9</th>\n      <td>125.860001</td>\n    </tr>\n    <tr>\n      <th>10</th>\n      <td>125.090000</td>\n    </tr>\n    <tr>\n      <th>11</th>\n      <td>124.680000</td>\n    </tr>\n    <tr>\n      <th>12</th>\n      <td>124.669998</td>\n    </tr>\n    <tr>\n      <th>13</th>\n      <td>124.110001</td>\n    </tr>\n    <tr>\n      <th>14</th>\n      <td>124.980000</td>\n    </tr>\n    <tr>\n      <th>15</th>\n      <td>126.035000</td>\n    </tr>\n    <tr>\n      <th>16</th>\n      <td>126.669998</td>\n    </tr>\n    <tr>\n      <th>17</th>\n      <td>127.169998</td>\n    </tr>\n    <tr>\n      <th>18</th>\n      <td>126.564999</td>\n    </tr>\n    <tr>\n      <th>19</th>\n      <td>126.939999</td>\n    </tr>\n    <tr>\n      <th>20</th>\n      <td>129.149998</td>\n    </tr>\n    <tr>\n      <th>21</th>\n      <td>129.790001</td>\n    </tr>\n    <tr>\n      <th>22</th>\n      <td>130.259995</td>\n    </tr>\n    <tr>\n      <th>23</th>\n      <td>130.794998</td>\n    </tr>\n    <tr>\n      <th>24</th>\n      <td>130.707504</td>\n    </tr>\n  </tbody>\n</table>\n</div>"
     },
     "metadata": {},
     "execution_count": 172
    }
   ],
   "source": [
    "test_y"
   ]
  },
  {
   "cell_type": "code",
   "execution_count": 173,
   "metadata": {},
   "outputs": [
    {
     "output_type": "stream",
     "name": "stdout",
     "text": [
      "1.54182373046875\n"
     ]
    }
   ],
   "source": [
    "mae = mean_absolute_error(test_y, a)\n",
    "print(mae)"
   ]
  },
  {
   "cell_type": "code",
   "execution_count": 174,
   "metadata": {},
   "outputs": [
    {
     "output_type": "execute_result",
     "data": {
      "text/plain": [
       "[<matplotlib.lines.Line2D at 0x2325de88ee0>]"
      ]
     },
     "metadata": {},
     "execution_count": 174
    },
    {
     "output_type": "display_data",
     "data": {
      "text/plain": "<Figure size 432x288 with 1 Axes>",
      "image/svg+xml": "<?xml version=\"1.0\" encoding=\"utf-8\" standalone=\"no\"?>\r\n<!DOCTYPE svg PUBLIC \"-//W3C//DTD SVG 1.1//EN\"\r\n  \"http://www.w3.org/Graphics/SVG/1.1/DTD/svg11.dtd\">\r\n<!-- Created with matplotlib (https://matplotlib.org/) -->\r\n<svg height=\"248.518125pt\" version=\"1.1\" viewBox=\"0 0 379.113636 248.518125\" width=\"379.113636pt\" xmlns=\"http://www.w3.org/2000/svg\" xmlns:xlink=\"http://www.w3.org/1999/xlink\">\r\n <metadata>\r\n  <rdf:RDF xmlns:cc=\"http://creativecommons.org/ns#\" xmlns:dc=\"http://purl.org/dc/elements/1.1/\" xmlns:rdf=\"http://www.w3.org/1999/02/22-rdf-syntax-ns#\">\r\n   <cc:Work>\r\n    <dc:type rdf:resource=\"http://purl.org/dc/dcmitype/StillImage\"/>\r\n    <dc:date>2021-06-18T21:55:11.153481</dc:date>\r\n    <dc:format>image/svg+xml</dc:format>\r\n    <dc:creator>\r\n     <cc:Agent>\r\n      <dc:title>Matplotlib v3.3.2, https://matplotlib.org/</dc:title>\r\n     </cc:Agent>\r\n    </dc:creator>\r\n   </cc:Work>\r\n  </rdf:RDF>\r\n </metadata>\r\n <defs>\r\n  <style type=\"text/css\">*{stroke-linecap:butt;stroke-linejoin:round;}</style>\r\n </defs>\r\n <g id=\"figure_1\">\r\n  <g id=\"patch_1\">\r\n   <path d=\"M 0 248.518125 \r\nL 379.113636 248.518125 \r\nL 379.113636 0 \r\nL 0 0 \r\nz\r\n\" style=\"fill:none;\"/>\r\n  </g>\r\n  <g id=\"axes_1\">\r\n   <g id=\"patch_2\">\r\n    <path d=\"M 33.2875 224.64 \r\nL 368.0875 224.64 \r\nL 368.0875 7.2 \r\nL 33.2875 7.2 \r\nz\r\n\" style=\"fill:#ffffff;\"/>\r\n   </g>\r\n   <g id=\"matplotlib.axis_1\">\r\n    <g id=\"xtick_1\">\r\n     <g id=\"line2d_1\">\r\n      <defs>\r\n       <path d=\"M 0 0 \r\nL 0 3.5 \r\n\" id=\"mfc1660ae1d\" style=\"stroke:#000000;stroke-width:0.8;\"/>\r\n      </defs>\r\n      <g>\r\n       <use style=\"stroke:#000000;stroke-width:0.8;\" x=\"48.505682\" xlink:href=\"#mfc1660ae1d\" y=\"224.64\"/>\r\n      </g>\r\n     </g>\r\n     <g id=\"text_1\">\r\n      <!-- 0 -->\r\n      <g transform=\"translate(45.324432 239.238438)scale(0.1 -0.1)\">\r\n       <defs>\r\n        <path d=\"M 31.78125 66.40625 \r\nQ 24.171875 66.40625 20.328125 58.90625 \r\nQ 16.5 51.421875 16.5 36.375 \r\nQ 16.5 21.390625 20.328125 13.890625 \r\nQ 24.171875 6.390625 31.78125 6.390625 \r\nQ 39.453125 6.390625 43.28125 13.890625 \r\nQ 47.125 21.390625 47.125 36.375 \r\nQ 47.125 51.421875 43.28125 58.90625 \r\nQ 39.453125 66.40625 31.78125 66.40625 \r\nz\r\nM 31.78125 74.21875 \r\nQ 44.046875 74.21875 50.515625 64.515625 \r\nQ 56.984375 54.828125 56.984375 36.375 \r\nQ 56.984375 17.96875 50.515625 8.265625 \r\nQ 44.046875 -1.421875 31.78125 -1.421875 \r\nQ 19.53125 -1.421875 13.0625 8.265625 \r\nQ 6.59375 17.96875 6.59375 36.375 \r\nQ 6.59375 54.828125 13.0625 64.515625 \r\nQ 19.53125 74.21875 31.78125 74.21875 \r\nz\r\n\" id=\"DejaVuSans-48\"/>\r\n       </defs>\r\n       <use xlink:href=\"#DejaVuSans-48\"/>\r\n      </g>\r\n     </g>\r\n    </g>\r\n    <g id=\"xtick_2\">\r\n     <g id=\"line2d_2\">\r\n      <g>\r\n       <use style=\"stroke:#000000;stroke-width:0.8;\" x=\"111.914773\" xlink:href=\"#mfc1660ae1d\" y=\"224.64\"/>\r\n      </g>\r\n     </g>\r\n     <g id=\"text_2\">\r\n      <!-- 5 -->\r\n      <g transform=\"translate(108.733523 239.238438)scale(0.1 -0.1)\">\r\n       <defs>\r\n        <path d=\"M 10.796875 72.90625 \r\nL 49.515625 72.90625 \r\nL 49.515625 64.59375 \r\nL 19.828125 64.59375 \r\nL 19.828125 46.734375 \r\nQ 21.96875 47.46875 24.109375 47.828125 \r\nQ 26.265625 48.1875 28.421875 48.1875 \r\nQ 40.625 48.1875 47.75 41.5 \r\nQ 54.890625 34.8125 54.890625 23.390625 \r\nQ 54.890625 11.625 47.5625 5.09375 \r\nQ 40.234375 -1.421875 26.90625 -1.421875 \r\nQ 22.3125 -1.421875 17.546875 -0.640625 \r\nQ 12.796875 0.140625 7.71875 1.703125 \r\nL 7.71875 11.625 \r\nQ 12.109375 9.234375 16.796875 8.0625 \r\nQ 21.484375 6.890625 26.703125 6.890625 \r\nQ 35.15625 6.890625 40.078125 11.328125 \r\nQ 45.015625 15.765625 45.015625 23.390625 \r\nQ 45.015625 31 40.078125 35.4375 \r\nQ 35.15625 39.890625 26.703125 39.890625 \r\nQ 22.75 39.890625 18.8125 39.015625 \r\nQ 14.890625 38.140625 10.796875 36.28125 \r\nz\r\n\" id=\"DejaVuSans-53\"/>\r\n       </defs>\r\n       <use xlink:href=\"#DejaVuSans-53\"/>\r\n      </g>\r\n     </g>\r\n    </g>\r\n    <g id=\"xtick_3\">\r\n     <g id=\"line2d_3\">\r\n      <g>\r\n       <use style=\"stroke:#000000;stroke-width:0.8;\" x=\"175.323864\" xlink:href=\"#mfc1660ae1d\" y=\"224.64\"/>\r\n      </g>\r\n     </g>\r\n     <g id=\"text_3\">\r\n      <!-- 10 -->\r\n      <g transform=\"translate(168.961364 239.238438)scale(0.1 -0.1)\">\r\n       <defs>\r\n        <path d=\"M 12.40625 8.296875 \r\nL 28.515625 8.296875 \r\nL 28.515625 63.921875 \r\nL 10.984375 60.40625 \r\nL 10.984375 69.390625 \r\nL 28.421875 72.90625 \r\nL 38.28125 72.90625 \r\nL 38.28125 8.296875 \r\nL 54.390625 8.296875 \r\nL 54.390625 0 \r\nL 12.40625 0 \r\nz\r\n\" id=\"DejaVuSans-49\"/>\r\n       </defs>\r\n       <use xlink:href=\"#DejaVuSans-49\"/>\r\n       <use x=\"63.623047\" xlink:href=\"#DejaVuSans-48\"/>\r\n      </g>\r\n     </g>\r\n    </g>\r\n    <g id=\"xtick_4\">\r\n     <g id=\"line2d_4\">\r\n      <g>\r\n       <use style=\"stroke:#000000;stroke-width:0.8;\" x=\"238.732955\" xlink:href=\"#mfc1660ae1d\" y=\"224.64\"/>\r\n      </g>\r\n     </g>\r\n     <g id=\"text_4\">\r\n      <!-- 15 -->\r\n      <g transform=\"translate(232.370455 239.238438)scale(0.1 -0.1)\">\r\n       <use xlink:href=\"#DejaVuSans-49\"/>\r\n       <use x=\"63.623047\" xlink:href=\"#DejaVuSans-53\"/>\r\n      </g>\r\n     </g>\r\n    </g>\r\n    <g id=\"xtick_5\">\r\n     <g id=\"line2d_5\">\r\n      <g>\r\n       <use style=\"stroke:#000000;stroke-width:0.8;\" x=\"302.142045\" xlink:href=\"#mfc1660ae1d\" y=\"224.64\"/>\r\n      </g>\r\n     </g>\r\n     <g id=\"text_5\">\r\n      <!-- 20 -->\r\n      <g transform=\"translate(295.779545 239.238438)scale(0.1 -0.1)\">\r\n       <defs>\r\n        <path d=\"M 19.1875 8.296875 \r\nL 53.609375 8.296875 \r\nL 53.609375 0 \r\nL 7.328125 0 \r\nL 7.328125 8.296875 \r\nQ 12.9375 14.109375 22.625 23.890625 \r\nQ 32.328125 33.6875 34.8125 36.53125 \r\nQ 39.546875 41.84375 41.421875 45.53125 \r\nQ 43.3125 49.21875 43.3125 52.78125 \r\nQ 43.3125 58.59375 39.234375 62.25 \r\nQ 35.15625 65.921875 28.609375 65.921875 \r\nQ 23.96875 65.921875 18.8125 64.3125 \r\nQ 13.671875 62.703125 7.8125 59.421875 \r\nL 7.8125 69.390625 \r\nQ 13.765625 71.78125 18.9375 73 \r\nQ 24.125 74.21875 28.421875 74.21875 \r\nQ 39.75 74.21875 46.484375 68.546875 \r\nQ 53.21875 62.890625 53.21875 53.421875 \r\nQ 53.21875 48.921875 51.53125 44.890625 \r\nQ 49.859375 40.875 45.40625 35.40625 \r\nQ 44.1875 33.984375 37.640625 27.21875 \r\nQ 31.109375 20.453125 19.1875 8.296875 \r\nz\r\n\" id=\"DejaVuSans-50\"/>\r\n       </defs>\r\n       <use xlink:href=\"#DejaVuSans-50\"/>\r\n       <use x=\"63.623047\" xlink:href=\"#DejaVuSans-48\"/>\r\n      </g>\r\n     </g>\r\n    </g>\r\n    <g id=\"xtick_6\">\r\n     <g id=\"line2d_6\">\r\n      <g>\r\n       <use style=\"stroke:#000000;stroke-width:0.8;\" x=\"365.551136\" xlink:href=\"#mfc1660ae1d\" y=\"224.64\"/>\r\n      </g>\r\n     </g>\r\n     <g id=\"text_6\">\r\n      <!-- 25 -->\r\n      <g transform=\"translate(359.188636 239.238438)scale(0.1 -0.1)\">\r\n       <use xlink:href=\"#DejaVuSans-50\"/>\r\n       <use x=\"63.623047\" xlink:href=\"#DejaVuSans-53\"/>\r\n      </g>\r\n     </g>\r\n    </g>\r\n   </g>\r\n   <g id=\"matplotlib.axis_2\">\r\n    <g id=\"ytick_1\">\r\n     <g id=\"line2d_7\">\r\n      <defs>\r\n       <path d=\"M 0 0 \r\nL -3.5 0 \r\n\" id=\"mc7b9fe6cc3\" style=\"stroke:#000000;stroke-width:0.8;\"/>\r\n      </defs>\r\n      <g>\r\n       <use style=\"stroke:#000000;stroke-width:0.8;\" x=\"33.2875\" xlink:href=\"#mc7b9fe6cc3\" y=\"210.797488\"/>\r\n      </g>\r\n     </g>\r\n     <g id=\"text_7\">\r\n      <!-- 122 -->\r\n      <g transform=\"translate(7.2 214.596707)scale(0.1 -0.1)\">\r\n       <use xlink:href=\"#DejaVuSans-49\"/>\r\n       <use x=\"63.623047\" xlink:href=\"#DejaVuSans-50\"/>\r\n       <use x=\"127.246094\" xlink:href=\"#DejaVuSans-50\"/>\r\n      </g>\r\n     </g>\r\n    </g>\r\n    <g id=\"ytick_2\">\r\n     <g id=\"line2d_8\">\r\n      <g>\r\n       <use style=\"stroke:#000000;stroke-width:0.8;\" x=\"33.2875\" xlink:href=\"#mc7b9fe6cc3\" y=\"166.746575\"/>\r\n      </g>\r\n     </g>\r\n     <g id=\"text_8\">\r\n      <!-- 124 -->\r\n      <g transform=\"translate(7.2 170.545793)scale(0.1 -0.1)\">\r\n       <defs>\r\n        <path d=\"M 37.796875 64.3125 \r\nL 12.890625 25.390625 \r\nL 37.796875 25.390625 \r\nz\r\nM 35.203125 72.90625 \r\nL 47.609375 72.90625 \r\nL 47.609375 25.390625 \r\nL 58.015625 25.390625 \r\nL 58.015625 17.1875 \r\nL 47.609375 17.1875 \r\nL 47.609375 0 \r\nL 37.796875 0 \r\nL 37.796875 17.1875 \r\nL 4.890625 17.1875 \r\nL 4.890625 26.703125 \r\nz\r\n\" id=\"DejaVuSans-52\"/>\r\n       </defs>\r\n       <use xlink:href=\"#DejaVuSans-49\"/>\r\n       <use x=\"63.623047\" xlink:href=\"#DejaVuSans-50\"/>\r\n       <use x=\"127.246094\" xlink:href=\"#DejaVuSans-52\"/>\r\n      </g>\r\n     </g>\r\n    </g>\r\n    <g id=\"ytick_3\">\r\n     <g id=\"line2d_9\">\r\n      <g>\r\n       <use style=\"stroke:#000000;stroke-width:0.8;\" x=\"33.2875\" xlink:href=\"#mc7b9fe6cc3\" y=\"122.695661\"/>\r\n      </g>\r\n     </g>\r\n     <g id=\"text_9\">\r\n      <!-- 126 -->\r\n      <g transform=\"translate(7.2 126.49488)scale(0.1 -0.1)\">\r\n       <defs>\r\n        <path d=\"M 33.015625 40.375 \r\nQ 26.375 40.375 22.484375 35.828125 \r\nQ 18.609375 31.296875 18.609375 23.390625 \r\nQ 18.609375 15.53125 22.484375 10.953125 \r\nQ 26.375 6.390625 33.015625 6.390625 \r\nQ 39.65625 6.390625 43.53125 10.953125 \r\nQ 47.40625 15.53125 47.40625 23.390625 \r\nQ 47.40625 31.296875 43.53125 35.828125 \r\nQ 39.65625 40.375 33.015625 40.375 \r\nz\r\nM 52.59375 71.296875 \r\nL 52.59375 62.3125 \r\nQ 48.875 64.0625 45.09375 64.984375 \r\nQ 41.3125 65.921875 37.59375 65.921875 \r\nQ 27.828125 65.921875 22.671875 59.328125 \r\nQ 17.53125 52.734375 16.796875 39.40625 \r\nQ 19.671875 43.65625 24.015625 45.921875 \r\nQ 28.375 48.1875 33.59375 48.1875 \r\nQ 44.578125 48.1875 50.953125 41.515625 \r\nQ 57.328125 34.859375 57.328125 23.390625 \r\nQ 57.328125 12.15625 50.6875 5.359375 \r\nQ 44.046875 -1.421875 33.015625 -1.421875 \r\nQ 20.359375 -1.421875 13.671875 8.265625 \r\nQ 6.984375 17.96875 6.984375 36.375 \r\nQ 6.984375 53.65625 15.1875 63.9375 \r\nQ 23.390625 74.21875 37.203125 74.21875 \r\nQ 40.921875 74.21875 44.703125 73.484375 \r\nQ 48.484375 72.75 52.59375 71.296875 \r\nz\r\n\" id=\"DejaVuSans-54\"/>\r\n       </defs>\r\n       <use xlink:href=\"#DejaVuSans-49\"/>\r\n       <use x=\"63.623047\" xlink:href=\"#DejaVuSans-50\"/>\r\n       <use x=\"127.246094\" xlink:href=\"#DejaVuSans-54\"/>\r\n      </g>\r\n     </g>\r\n    </g>\r\n    <g id=\"ytick_4\">\r\n     <g id=\"line2d_10\">\r\n      <g>\r\n       <use style=\"stroke:#000000;stroke-width:0.8;\" x=\"33.2875\" xlink:href=\"#mc7b9fe6cc3\" y=\"78.644748\"/>\r\n      </g>\r\n     </g>\r\n     <g id=\"text_10\">\r\n      <!-- 128 -->\r\n      <g transform=\"translate(7.2 82.443966)scale(0.1 -0.1)\">\r\n       <defs>\r\n        <path d=\"M 31.78125 34.625 \r\nQ 24.75 34.625 20.71875 30.859375 \r\nQ 16.703125 27.09375 16.703125 20.515625 \r\nQ 16.703125 13.921875 20.71875 10.15625 \r\nQ 24.75 6.390625 31.78125 6.390625 \r\nQ 38.8125 6.390625 42.859375 10.171875 \r\nQ 46.921875 13.96875 46.921875 20.515625 \r\nQ 46.921875 27.09375 42.890625 30.859375 \r\nQ 38.875 34.625 31.78125 34.625 \r\nz\r\nM 21.921875 38.8125 \r\nQ 15.578125 40.375 12.03125 44.71875 \r\nQ 8.5 49.078125 8.5 55.328125 \r\nQ 8.5 64.0625 14.71875 69.140625 \r\nQ 20.953125 74.21875 31.78125 74.21875 \r\nQ 42.671875 74.21875 48.875 69.140625 \r\nQ 55.078125 64.0625 55.078125 55.328125 \r\nQ 55.078125 49.078125 51.53125 44.71875 \r\nQ 48 40.375 41.703125 38.8125 \r\nQ 48.828125 37.15625 52.796875 32.3125 \r\nQ 56.78125 27.484375 56.78125 20.515625 \r\nQ 56.78125 9.90625 50.3125 4.234375 \r\nQ 43.84375 -1.421875 31.78125 -1.421875 \r\nQ 19.734375 -1.421875 13.25 4.234375 \r\nQ 6.78125 9.90625 6.78125 20.515625 \r\nQ 6.78125 27.484375 10.78125 32.3125 \r\nQ 14.796875 37.15625 21.921875 38.8125 \r\nz\r\nM 18.3125 54.390625 \r\nQ 18.3125 48.734375 21.84375 45.5625 \r\nQ 25.390625 42.390625 31.78125 42.390625 \r\nQ 38.140625 42.390625 41.71875 45.5625 \r\nQ 45.3125 48.734375 45.3125 54.390625 \r\nQ 45.3125 60.0625 41.71875 63.234375 \r\nQ 38.140625 66.40625 31.78125 66.40625 \r\nQ 25.390625 66.40625 21.84375 63.234375 \r\nQ 18.3125 60.0625 18.3125 54.390625 \r\nz\r\n\" id=\"DejaVuSans-56\"/>\r\n       </defs>\r\n       <use xlink:href=\"#DejaVuSans-49\"/>\r\n       <use x=\"63.623047\" xlink:href=\"#DejaVuSans-50\"/>\r\n       <use x=\"127.246094\" xlink:href=\"#DejaVuSans-56\"/>\r\n      </g>\r\n     </g>\r\n    </g>\r\n    <g id=\"ytick_5\">\r\n     <g id=\"line2d_11\">\r\n      <g>\r\n       <use style=\"stroke:#000000;stroke-width:0.8;\" x=\"33.2875\" xlink:href=\"#mc7b9fe6cc3\" y=\"34.593834\"/>\r\n      </g>\r\n     </g>\r\n     <g id=\"text_11\">\r\n      <!-- 130 -->\r\n      <g transform=\"translate(7.2 38.393053)scale(0.1 -0.1)\">\r\n       <defs>\r\n        <path d=\"M 40.578125 39.3125 \r\nQ 47.65625 37.796875 51.625 33 \r\nQ 55.609375 28.21875 55.609375 21.1875 \r\nQ 55.609375 10.40625 48.1875 4.484375 \r\nQ 40.765625 -1.421875 27.09375 -1.421875 \r\nQ 22.515625 -1.421875 17.65625 -0.515625 \r\nQ 12.796875 0.390625 7.625 2.203125 \r\nL 7.625 11.71875 \r\nQ 11.71875 9.328125 16.59375 8.109375 \r\nQ 21.484375 6.890625 26.8125 6.890625 \r\nQ 36.078125 6.890625 40.9375 10.546875 \r\nQ 45.796875 14.203125 45.796875 21.1875 \r\nQ 45.796875 27.640625 41.28125 31.265625 \r\nQ 36.765625 34.90625 28.71875 34.90625 \r\nL 20.21875 34.90625 \r\nL 20.21875 43.015625 \r\nL 29.109375 43.015625 \r\nQ 36.375 43.015625 40.234375 45.921875 \r\nQ 44.09375 48.828125 44.09375 54.296875 \r\nQ 44.09375 59.90625 40.109375 62.90625 \r\nQ 36.140625 65.921875 28.71875 65.921875 \r\nQ 24.65625 65.921875 20.015625 65.03125 \r\nQ 15.375 64.15625 9.8125 62.3125 \r\nL 9.8125 71.09375 \r\nQ 15.4375 72.65625 20.34375 73.4375 \r\nQ 25.25 74.21875 29.59375 74.21875 \r\nQ 40.828125 74.21875 47.359375 69.109375 \r\nQ 53.90625 64.015625 53.90625 55.328125 \r\nQ 53.90625 49.265625 50.4375 45.09375 \r\nQ 46.96875 40.921875 40.578125 39.3125 \r\nz\r\n\" id=\"DejaVuSans-51\"/>\r\n       </defs>\r\n       <use xlink:href=\"#DejaVuSans-49\"/>\r\n       <use x=\"63.623047\" xlink:href=\"#DejaVuSans-51\"/>\r\n       <use x=\"127.246094\" xlink:href=\"#DejaVuSans-48\"/>\r\n      </g>\r\n     </g>\r\n    </g>\r\n   </g>\r\n   <g id=\"line2d_12\">\r\n    <path clip-path=\"url(#paf559e420f)\" d=\"M 48.505682 103.974056 \r\nL 61.1875 110.691828 \r\nL 73.869318 129.193215 \r\nL 86.551136 168.398417 \r\nL 99.232955 116.748778 \r\nL 111.914773 108.929751 \r\nL 124.596591 110.471526 \r\nL 137.278409 92.741027 \r\nL 149.960227 102.76265 \r\nL 162.642045 125.779212 \r\nL 175.323864 142.738823 \r\nL 188.005682 151.769257 \r\nL 200.6875 151.989559 \r\nL 213.369318 164.323761 \r\nL 226.051136 145.161637 \r\nL 238.732955 121.924773 \r\nL 251.414773 107.938645 \r\nL 264.096591 96.925917 \r\nL 276.778409 110.251308 \r\nL 289.460227 101.991762 \r\nL 302.142045 53.315523 \r\nL 314.823864 39.21916 \r\nL 327.505682 28.867336 \r\nL 340.1875 17.083636 \r\nL 352.869318 19.010729 \r\n\" style=\"fill:none;stroke:#1f77b4;stroke-linecap:square;stroke-width:1.5;\"/>\r\n   </g>\r\n   <g id=\"line2d_13\">\r\n    <path clip-path=\"url(#paf559e420f)\" d=\"M 48.505682 94.238271 \r\nL 61.1875 70.269925 \r\nL 73.869318 74.01018 \r\nL 86.551136 103.861637 \r\nL 99.232955 214.756364 \r\nL 111.914773 127.557084 \r\nL 124.596591 59.558326 \r\nL 137.278409 57.88968 \r\nL 149.960227 45.284596 \r\nL 162.642045 108.921013 \r\nL 175.323864 114.983256 \r\nL 188.005682 99.828488 \r\nL 200.6875 118.602689 \r\nL 213.369318 69.805796 \r\nL 226.051136 154.206859 \r\nL 238.732955 120.697823 \r\nL 251.414773 104.030854 \r\nL 264.096591 104.471794 \r\nL 276.778409 46.109341 \r\nL 289.460227 94.233902 \r\nL 302.142045 128.192111 \r\nL 314.823864 39.576247 \r\nL 327.505682 38.69504 \r\nL 340.1875 30.59278 \r\nL 352.869318 21.584444 \r\n\" style=\"fill:none;stroke:#ff7f0e;stroke-linecap:square;stroke-width:1.5;\"/>\r\n   </g>\r\n   <g id=\"patch_3\">\r\n    <path d=\"M 33.2875 224.64 \r\nL 33.2875 7.2 \r\n\" style=\"fill:none;stroke:#000000;stroke-linecap:square;stroke-linejoin:miter;stroke-width:0.8;\"/>\r\n   </g>\r\n   <g id=\"patch_4\">\r\n    <path d=\"M 368.0875 224.64 \r\nL 368.0875 7.2 \r\n\" style=\"fill:none;stroke:#000000;stroke-linecap:square;stroke-linejoin:miter;stroke-width:0.8;\"/>\r\n   </g>\r\n   <g id=\"patch_5\">\r\n    <path d=\"M 33.2875 224.64 \r\nL 368.0875 224.64 \r\n\" style=\"fill:none;stroke:#000000;stroke-linecap:square;stroke-linejoin:miter;stroke-width:0.8;\"/>\r\n   </g>\r\n   <g id=\"patch_6\">\r\n    <path d=\"M 33.2875 7.2 \r\nL 368.0875 7.2 \r\n\" style=\"fill:none;stroke:#000000;stroke-linecap:square;stroke-linejoin:miter;stroke-width:0.8;\"/>\r\n   </g>\r\n  </g>\r\n </g>\r\n <defs>\r\n  <clipPath id=\"paf559e420f\">\r\n   <rect height=\"217.44\" width=\"334.8\" x=\"33.2875\" y=\"7.2\"/>\r\n  </clipPath>\r\n </defs>\r\n</svg>\r\n",
      "image/png": "[encoded data removed]"
     },
     "metadata": {
      "needs_background": "light"
     }
    }
   ],
   "source": [
    "plt.plot(test_y.index,test_y)\n",
    "plt.plot(a)"
   ]
  },
  {
   "cell_type": "code",
   "execution_count": 42,
   "metadata": {},
   "outputs": [],
   "source": []
  },
  {
   "cell_type": "code",
   "execution_count": 63,
   "metadata": {},
   "outputs": [],
   "source": [
    "model=SalesPredictionModel(data, n_inputs=10, n_outputs=1)"
   ]
  },
  {
   "cell_type": "code",
   "execution_count": 65,
   "metadata": {},
   "outputs": [
    {
     "output_type": "error",
     "ename": "ValueError",
     "evalue": "Invalid file path or buffer object type: <class 'pandas.core.frame.DataFrame'>",
     "traceback": [
      "\u001b[1;31m---------------------------------------------------------------------------\u001b[0m",
      "\u001b[1;31mValueError\u001b[0m                                Traceback (most recent call last)",
      "\u001b[1;32m<ipython-input-65-3b3c62bc6b09>\u001b[0m in \u001b[0;36m<module>\u001b[1;34m\u001b[0m\n\u001b[1;32m----> 1\u001b[1;33m \u001b[0mmodel\u001b[0m\u001b[1;33m.\u001b[0m\u001b[0mpreprocess\u001b[0m\u001b[1;33m(\u001b[0m\u001b[1;33m)\u001b[0m\u001b[1;33m\u001b[0m\u001b[1;33m\u001b[0m\u001b[0m\n\u001b[0m",
      "\u001b[1;32mc:\\Users\\44773\\Desktop\\tesis\\stock-market\\src\\XGBoost.py\u001b[0m in \u001b[0;36mpreprocess\u001b[1;34m(self)\u001b[0m\n\u001b[0;32m     18\u001b[0m \u001b[1;33m\u001b[0m\u001b[0m\n\u001b[0;32m     19\u001b[0m     \u001b[1;32mdef\u001b[0m \u001b[0mpreprocess\u001b[0m\u001b[1;33m(\u001b[0m\u001b[0mself\u001b[0m\u001b[1;33m)\u001b[0m\u001b[1;33m:\u001b[0m\u001b[1;33m\u001b[0m\u001b[1;33m\u001b[0m\u001b[0m\n\u001b[1;32m---> 20\u001b[1;33m         \u001b[0mself\u001b[0m\u001b[1;33m.\u001b[0m\u001b[0mpreprocessed_data\u001b[0m \u001b[1;33m=\u001b[0m \u001b[0mself\u001b[0m\u001b[1;33m.\u001b[0m\u001b[0mdata_url\u001b[0m\u001b[1;33m\u001b[0m\u001b[1;33m\u001b[0m\u001b[0m\n\u001b[0m\u001b[0;32m     21\u001b[0m         \u001b[0mself\u001b[0m\u001b[1;33m.\u001b[0m\u001b[0mfinal_data\u001b[0m \u001b[1;33m=\u001b[0m \u001b[0mself\u001b[0m\u001b[1;33m.\u001b[0m\u001b[0m__series_to_supervised\u001b[0m\u001b[1;33m(\u001b[0m\u001b[0mself\u001b[0m\u001b[1;33m.\u001b[0m\u001b[0mpreprocessed_data\u001b[0m\u001b[1;33m)\u001b[0m\u001b[1;33m\u001b[0m\u001b[1;33m\u001b[0m\u001b[0m\n\u001b[0;32m     22\u001b[0m         \u001b[0mself\u001b[0m\u001b[1;33m.\u001b[0m\u001b[0m__processed\u001b[0m \u001b[1;33m=\u001b[0m \u001b[1;32mTrue\u001b[0m\u001b[1;33m\u001b[0m\u001b[1;33m\u001b[0m\u001b[0m\n",
      "\u001b[1;32mD:\\anaconda\\lib\\site-packages\\pandas\\io\\parsers.py\u001b[0m in \u001b[0;36mread_csv\u001b[1;34m(filepath_or_buffer, sep, delimiter, header, names, index_col, usecols, squeeze, prefix, mangle_dupe_cols, dtype, engine, converters, true_values, false_values, skipinitialspace, skiprows, skipfooter, nrows, na_values, keep_default_na, na_filter, verbose, skip_blank_lines, parse_dates, infer_datetime_format, keep_date_col, date_parser, dayfirst, cache_dates, iterator, chunksize, compression, thousands, decimal, lineterminator, quotechar, quoting, doublequote, escapechar, comment, encoding, dialect, error_bad_lines, warn_bad_lines, delim_whitespace, low_memory, memory_map, float_precision)\u001b[0m\n\u001b[0;32m    684\u001b[0m     )\n\u001b[0;32m    685\u001b[0m \u001b[1;33m\u001b[0m\u001b[0m\n\u001b[1;32m--> 686\u001b[1;33m     \u001b[1;32mreturn\u001b[0m \u001b[0m_read\u001b[0m\u001b[1;33m(\u001b[0m\u001b[0mfilepath_or_buffer\u001b[0m\u001b[1;33m,\u001b[0m \u001b[0mkwds\u001b[0m\u001b[1;33m)\u001b[0m\u001b[1;33m\u001b[0m\u001b[1;33m\u001b[0m\u001b[0m\n\u001b[0m\u001b[0;32m    687\u001b[0m \u001b[1;33m\u001b[0m\u001b[0m\n\u001b[0;32m    688\u001b[0m \u001b[1;33m\u001b[0m\u001b[0m\n",
      "\u001b[1;32mD:\\anaconda\\lib\\site-packages\\pandas\\io\\parsers.py\u001b[0m in \u001b[0;36m_read\u001b[1;34m(filepath_or_buffer, kwds)\u001b[0m\n\u001b[0;32m    432\u001b[0m     \u001b[1;31m# though mypy handling of conditional imports is difficult.\u001b[0m\u001b[1;33m\u001b[0m\u001b[1;33m\u001b[0m\u001b[1;33m\u001b[0m\u001b[0m\n\u001b[0;32m    433\u001b[0m     \u001b[1;31m# See https://github.com/python/mypy/issues/1297\u001b[0m\u001b[1;33m\u001b[0m\u001b[1;33m\u001b[0m\u001b[1;33m\u001b[0m\u001b[0m\n\u001b[1;32m--> 434\u001b[1;33m     fp_or_buf, _, compression, should_close = get_filepath_or_buffer(\n\u001b[0m\u001b[0;32m    435\u001b[0m         \u001b[0mfilepath_or_buffer\u001b[0m\u001b[1;33m,\u001b[0m \u001b[0mencoding\u001b[0m\u001b[1;33m,\u001b[0m \u001b[0mcompression\u001b[0m\u001b[1;33m\u001b[0m\u001b[1;33m\u001b[0m\u001b[0m\n\u001b[0;32m    436\u001b[0m     )\n",
      "\u001b[1;32mD:\\anaconda\\lib\\site-packages\\pandas\\io\\common.py\u001b[0m in \u001b[0;36mget_filepath_or_buffer\u001b[1;34m(filepath_or_buffer, encoding, compression, mode, storage_options)\u001b[0m\n\u001b[0;32m    241\u001b[0m     \u001b[1;32mif\u001b[0m \u001b[1;32mnot\u001b[0m \u001b[0mis_file_like\u001b[0m\u001b[1;33m(\u001b[0m\u001b[0mfilepath_or_buffer\u001b[0m\u001b[1;33m)\u001b[0m\u001b[1;33m:\u001b[0m\u001b[1;33m\u001b[0m\u001b[1;33m\u001b[0m\u001b[0m\n\u001b[0;32m    242\u001b[0m         \u001b[0mmsg\u001b[0m \u001b[1;33m=\u001b[0m \u001b[1;34mf\"Invalid file path or buffer object type: {type(filepath_or_buffer)}\"\u001b[0m\u001b[1;33m\u001b[0m\u001b[1;33m\u001b[0m\u001b[0m\n\u001b[1;32m--> 243\u001b[1;33m         \u001b[1;32mraise\u001b[0m \u001b[0mValueError\u001b[0m\u001b[1;33m(\u001b[0m\u001b[0mmsg\u001b[0m\u001b[1;33m)\u001b[0m\u001b[1;33m\u001b[0m\u001b[1;33m\u001b[0m\u001b[0m\n\u001b[0m\u001b[0;32m    244\u001b[0m \u001b[1;33m\u001b[0m\u001b[0m\n\u001b[0;32m    245\u001b[0m     \u001b[1;32mreturn\u001b[0m \u001b[0mfilepath_or_buffer\u001b[0m\u001b[1;33m,\u001b[0m \u001b[1;32mNone\u001b[0m\u001b[1;33m,\u001b[0m \u001b[0mcompression\u001b[0m\u001b[1;33m,\u001b[0m \u001b[1;32mFalse\u001b[0m\u001b[1;33m\u001b[0m\u001b[1;33m\u001b[0m\u001b[0m\n",
      "\u001b[1;31mValueError\u001b[0m: Invalid file path or buffer object type: <class 'pandas.core.frame.DataFrame'>"
     ]
    }
   ],
   "source": [
    "model.preprocess()"
   ]
  },
  {
   "cell_type": "code",
   "execution_count": 58,
   "metadata": {},
   "outputs": [
    {
     "output_type": "execute_result",
     "data": {
      "text/plain": [
       "            mean_open_close\n",
       "Date                       \n",
       "1980-12-12         0.100751\n",
       "1980-12-15         0.095714\n",
       "1980-12-16         0.088704\n",
       "1980-12-17         0.090676\n",
       "1980-12-18         0.093304\n",
       "...                     ...\n",
       "2021-06-14       129.149998\n",
       "2021-06-15       129.790001\n",
       "2021-06-16       130.259995\n",
       "2021-06-17       130.794998\n",
       "2021-06-18       130.772507\n",
       "\n",
       "[10216 rows x 1 columns]"
      ],
      "text/html": "<div>\n<style scoped>\n    .dataframe tbody tr th:only-of-type {\n        vertical-align: middle;\n    }\n\n    .dataframe tbody tr th {\n        vertical-align: top;\n    }\n\n    .dataframe thead th {\n        text-align: right;\n    }\n</style>\n<table border=\"1\" class=\"dataframe\">\n  <thead>\n    <tr style=\"text-align: right;\">\n      <th></th>\n      <th>mean_open_close</th>\n    </tr>\n    <tr>\n      <th>Date</th>\n      <th></th>\n    </tr>\n  </thead>\n  <tbody>\n    <tr>\n      <th>1980-12-12</th>\n      <td>0.100751</td>\n    </tr>\n    <tr>\n      <th>1980-12-15</th>\n      <td>0.095714</td>\n    </tr>\n    <tr>\n      <th>1980-12-16</th>\n      <td>0.088704</td>\n    </tr>\n    <tr>\n      <th>1980-12-17</th>\n      <td>0.090676</td>\n    </tr>\n    <tr>\n      <th>1980-12-18</th>\n      <td>0.093304</td>\n    </tr>\n    <tr>\n      <th>...</th>\n      <td>...</td>\n    </tr>\n    <tr>\n      <th>2021-06-14</th>\n      <td>129.149998</td>\n    </tr>\n    <tr>\n      <th>2021-06-15</th>\n      <td>129.790001</td>\n    </tr>\n    <tr>\n      <th>2021-06-16</th>\n      <td>130.259995</td>\n    </tr>\n    <tr>\n      <th>2021-06-17</th>\n      <td>130.794998</td>\n    </tr>\n    <tr>\n      <th>2021-06-18</th>\n      <td>130.772507</td>\n    </tr>\n  </tbody>\n</table>\n<p>10216 rows × 1 columns</p>\n</div>"
     },
     "metadata": {},
     "execution_count": 58
    }
   ],
   "source": [
    "data"
   ]
  },
  {
   "cell_type": "code",
   "execution_count": null,
   "metadata": {},
   "outputs": [],
   "source": []
  },
  {
   "cell_type": "code",
   "execution_count": null,
   "metadata": {},
   "outputs": [],
   "source": []
  },
  {
   "cell_type": "code",
   "execution_count": null,
   "metadata": {},
   "outputs": [],
   "source": []
  },
  {
   "cell_type": "code",
   "execution_count": null,
   "metadata": {},
   "outputs": [],
   "source": []
  },
  {
   "cell_type": "code",
   "execution_count": null,
   "metadata": {},
   "outputs": [],
   "source": []
  },
  {
   "cell_type": "code",
   "execution_count": null,
   "metadata": {},
   "outputs": [],
   "source": []
  }
 ]
}